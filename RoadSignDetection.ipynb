{
 "cells": [
  {
   "cell_type": "markdown",
   "metadata": {},
   "source": [
    "Resources: \n",
    "https://www.youtube.com/watch?v=dZh_ps8gKgs&t=1251s\n",
    "https://rockyshikoku.medium.com/how-to-use-tensorflow-object-detection-api-with-the-colab-sample-notebooks-477707fadf1b"
   ]
  },
  {
   "cell_type": "markdown",
   "metadata": {},
   "source": [
    "# have to run through cmd in D drive!!!!!!!!!!!\n"
   ]
  },
  {
   "cell_type": "code",
   "execution_count": 1,
   "metadata": {},
   "outputs": [
    {
     "name": "stdout",
     "output_type": "stream",
     "text": [
      "Requirement already satisfied: pyparsing==2.4.7 in c:\\users\\sophiechen\\anaconda3\\lib\\site-packages (2.4.7)\n"
     ]
    },
    {
     "name": "stderr",
     "output_type": "stream",
     "text": [
      "WARNING: Ignoring invalid distribution -rotobuf (c:\\users\\sophiechen\\anaconda3\\lib\\site-packages)\n",
      "WARNING: Ignoring invalid distribution -rotobuf (c:\\users\\sophiechen\\anaconda3\\lib\\site-packages)\n",
      "WARNING: Ignoring invalid distribution -rotobuf (c:\\users\\sophiechen\\anaconda3\\lib\\site-packages)\n",
      "WARNING: Ignoring invalid distribution -rotobuf (c:\\users\\sophiechen\\anaconda3\\lib\\site-packages)\n",
      "    WARNING: Ignoring invalid distribution -rotobuf (c:\\users\\sophiechen\\anaconda3\\lib\\site-packages)\n",
      "    WARNING: Ignoring invalid distribution -rotobuf (c:\\users\\sophiechen\\anaconda3\\lib\\site-packages)\n",
      "WARNING: Ignoring invalid distribution -rotobuf (c:\\users\\sophiechen\\anaconda3\\lib\\site-packages)\n",
      "WARNING: Ignoring invalid distribution -rotobuf (c:\\users\\sophiechen\\anaconda3\\lib\\site-packages)\n",
      "ERROR: pip's dependency resolver does not currently take into account all the packages that are installed. This behaviour is the source of the following dependency conflicts.\n",
      "google-cloud-core 1.7.1 requires google-api-core<2.0.0dev,>=1.21.0, but you have google-api-core 2.11.0 which is incompatible.\n",
      "google-cloud-core 1.7.1 requires google-auth<2.0dev,>=1.24.0, but you have google-auth 2.17.3 which is incompatible.\n"
     ]
    }
   ],
   "source": [
    "!pip install pyparsing==2.4.7 \n",
    "!pip install --upgrade witwidget -q"
   ]
  },
  {
   "cell_type": "markdown",
   "metadata": {},
   "source": [
    "# Define Paths"
   ]
  },
  {
   "cell_type": "code",
   "execution_count": 2,
   "metadata": {},
   "outputs": [],
   "source": [
    "#Define Paths:\n",
    "SCRIPTS_PATH = 'Tensorflow/scripts'\n",
    "APIMODEL_PATH = 'Tensorflow/models'\n",
    "WORKSPACE_PATH = 'Tensorflow/workspace'\n",
    "MODEL_PATH = WORKSPACE_PATH+'/models'\n",
    "PRETRAINED_MODEL_PATH = WORKSPACE_PATH+'/pre-trained-models'\n",
    "CONFIG_PATH = MODEL_PATH+'/sign_model/pipeline.config'\n",
    "ANNOTATION_PATH = WORKSPACE_PATH+'/annotations'\n",
    "IMAGE_PATH = WORKSPACE_PATH+'/images'\n",
    "CHECKPOINT_PATH = MODEL_PATH+'/sign_model/'"
   ]
  },
  {
   "cell_type": "markdown",
   "metadata": {},
   "source": [
    "# Create labels for our detections"
   ]
  },
  {
   "cell_type": "markdown",
   "metadata": {},
   "source": [
    "- Define our label maps"
   ]
  },
  {
   "cell_type": "code",
   "execution_count": 3,
   "metadata": {},
   "outputs": [],
   "source": [
    "#Define our label maps\n",
    "labels = [{'name':'Stop', 'id':1}, #have to be > then 0\n",
    "          {'name':'Yeild', 'id':2},\n",
    "          {'name':'Danger', 'id':3},\n",
    "          {'name':'Deadend', 'id':4},\n",
    "          {'name':'Parking', 'id':5}]\n",
    "\n",
    "with open(ANNOTATION_PATH + '\\label_map.pbtxt', 'w') as f:\n",
    "    for label in labels:\n",
    "        f.write('item { \\n')\n",
    "        f.write('\\tname:\\'{}\\'\\n'.format(label['name']))\n",
    "        f.write('\\tid:{}\\n'.format(label['id']))\n",
    "        f.write('}\\n')"
   ]
  },
  {
   "cell_type": "markdown",
   "metadata": {},
   "source": [
    "# Create Tensorflow records for us to train with\n"
   ]
  },
  {
   "cell_type": "markdown",
   "metadata": {},
   "source": [
    "<img src=\"pic/traintestrecord.jpg\">"
   ]
  },
  {
   "cell_type": "markdown",
   "metadata": {},
   "source": [
    "- Create train records"
   ]
  },
  {
   "cell_type": "code",
   "execution_count": 4,
   "metadata": {},
   "outputs": [
    {
     "name": "stderr",
     "output_type": "stream",
     "text": [
      "Traceback (most recent call last):\n",
      "  File \"C:\\Users\\sophiechen\\2022MDS\\Block 6\\Data-586\\RoadSignDetection\\Tensorflow\\scripts\\generate_tfrecord.py\", line 61, in <module>\n",
      "    label_map_dict = label_map_util.get_label_map_dict(args.labels_path)\n",
      "  File \"C:\\Users\\sophiechen\\anaconda3\\lib\\site-packages\\object_detection\\utils\\label_map_util.py\", line 164, in get_label_map_dict\n",
      "    label_map = load_labelmap(label_map_path)\n",
      "  File \"C:\\Users\\sophiechen\\anaconda3\\lib\\site-packages\\object_detection\\utils\\label_map_util.py\", line 132, in load_labelmap\n",
      "    with tf.gfile.GFile(path, 'r') as fid:\n",
      "AttributeError: module 'tensorflow' has no attribute 'gfile'\n"
     ]
    }
   ],
   "source": [
    "!python {SCRIPTS_PATH + '/generate_tfrecord.py'} -x {IMAGE_PATH + '/train'} -l {ANNOTATION_PATH + '/label_map.pbtxt'} -o {ANNOTATION_PATH + '/train.record'}\n"
   ]
  },
  {
   "cell_type": "markdown",
   "metadata": {},
   "source": [
    "- Create test records"
   ]
  },
  {
   "cell_type": "code",
   "execution_count": 5,
   "metadata": {},
   "outputs": [
    {
     "name": "stderr",
     "output_type": "stream",
     "text": [
      "Traceback (most recent call last):\n",
      "  File \"C:\\Users\\sophiechen\\2022MDS\\Block 6\\Data-586\\RoadSignDetection\\Tensorflow\\scripts\\generate_tfrecord.py\", line 61, in <module>\n",
      "    label_map_dict = label_map_util.get_label_map_dict(args.labels_path)\n",
      "  File \"C:\\Users\\sophiechen\\anaconda3\\lib\\site-packages\\object_detection\\utils\\label_map_util.py\", line 164, in get_label_map_dict\n",
      "    label_map = load_labelmap(label_map_path)\n",
      "  File \"C:\\Users\\sophiechen\\anaconda3\\lib\\site-packages\\object_detection\\utils\\label_map_util.py\", line 132, in load_labelmap\n",
      "    with tf.gfile.GFile(path, 'r') as fid:\n",
      "AttributeError: module 'tensorflow' has no attribute 'gfile'\n"
     ]
    }
   ],
   "source": [
    "!python {SCRIPTS_PATH + '/generate_tfrecord.py'} -x{IMAGE_PATH + '/test'} -l {ANNOTATION_PATH + '/label_map.pbtxt'} -o {ANNOTATION_PATH + '/test.record'}\n"
   ]
  },
  {
   "cell_type": "markdown",
   "metadata": {},
   "source": [
    "# Update pipline config "
   ]
  },
  {
   "cell_type": "markdown",
   "metadata": {},
   "source": [
    "<img src=\"pic/pipeline.jpg\">"
   ]
  },
  {
   "cell_type": "code",
   "execution_count": 6,
   "metadata": {},
   "outputs": [],
   "source": [
    "import tensorflow as tf"
   ]
  },
  {
   "cell_type": "code",
   "execution_count": 7,
   "metadata": {},
   "outputs": [
    {
     "name": "stdout",
     "output_type": "stream",
     "text": [
      "2.11.0\n"
     ]
    }
   ],
   "source": [
    "print(tf.__version__) #might have compability issues with cuda "
   ]
  },
  {
   "cell_type": "code",
   "execution_count": 8,
   "metadata": {},
   "outputs": [
    {
     "name": "stderr",
     "output_type": "stream",
     "text": [
      "A subdirectory or file Tensorflow\\workspace\\models\\sign_model already exists.\n"
     ]
    },
    {
     "data": {
      "text/plain": [
       "'Tensorflow/workspace/models/sign_model\\\\pipeline.config'"
      ]
     },
     "execution_count": 8,
     "metadata": {},
     "output_type": "execute_result"
    }
   ],
   "source": [
    "# copy model config to training Folder\n",
    "import shutil\n",
    "CUSTOM_MODEL_NAME = 'sign_model' \n",
    "!mkdir {'Tensorflow\\workspace\\models\\\\'+CUSTOM_MODEL_NAME}\n",
    "shutil.copy(PRETRAINED_MODEL_PATH+'/ssd_mobilenet_v2_fpnlite_320x320_coco17_tpu-8/pipeline.config', MODEL_PATH+'/'+CUSTOM_MODEL_NAME)\n"
   ]
  },
  {
   "cell_type": "code",
   "execution_count": 9,
   "metadata": {},
   "outputs": [
    {
     "name": "stdout",
     "output_type": "stream",
     "text": [
      "Requirement already satisfied: object_detection in c:\\users\\sophiechen\\anaconda3\\lib\\site-packages (0.0.3)"
     ]
    },
    {
     "name": "stderr",
     "output_type": "stream",
     "text": [
      "WARNING: Ignoring invalid distribution -rotobuf (c:\\users\\sophiechen\\anaconda3\\lib\\site-packages)"
     ]
    },
    {
     "name": "stdout",
     "output_type": "stream",
     "text": [
      "\n",
      "Requirement already satisfied: tensorflow in c:\\users\\sophiechen\\anaconda3\\lib\\site-packages (from object_detection) (2.11.0)\n",
      "Requirement already satisfied: Cython in c:\\users\\sophiechen\\anaconda3\\lib\\site-packages (from object_detection) (0.29.28)\n",
      "Requirement already satisfied: contextlib2 in c:\\users\\sophiechen\\anaconda3\\lib\\site-packages (from object_detection) (21.6.0)\n",
      "Requirement already satisfied: pillow in c:\\users\\sophiechen\\anaconda3\\lib\\site-packages (from object_detection) (9.0.1)\n",
      "Requirement already satisfied: lxml in c:\\users\\sophiechen\\anaconda3\\lib\\site-packages (from object_detection) (4.8.0)\n",
      "Requirement already satisfied: jupyter in c:\\users\\sophiechen\\anaconda3\\lib\\site-packages (from object_detection) (1.0.0)\n",
      "Requirement already satisfied: matplotlib in c:\\users\\sophiechen\\anaconda3\\lib\\site-packages (from object_detection) (3.5.1)\n",
      "Requirement already satisfied: notebook in c:\\users\\sophiechen\\anaconda3\\lib\\site-packages (from jupyter->object_detection) (6.4.8)\n",
      "Requirement already satisfied: qtconsole in c:\\users\\sophiechen\\anaconda3\\lib\\site-packages (from jupyter->object_detection) (5.3.0)\n",
      "Requirement already satisfied: jupyter-console in c:\\users\\sophiechen\\anaconda3\\lib\\site-packages (from jupyter->object_detection) (6.4.0)\n",
      "Requirement already satisfied: nbconvert in c:\\users\\sophiechen\\anaconda3\\lib\\site-packages (from jupyter->object_detection) (6.4.4)\n",
      "Requirement already satisfied: ipykernel in c:\\users\\sophiechen\\anaconda3\\lib\\site-packages (from jupyter->object_detection) (6.9.1)\n",
      "Requirement already satisfied: ipywidgets in c:\\users\\sophiechen\\anaconda3\\lib\\site-packages (from jupyter->object_detection) (7.6.5)\n",
      "Requirement already satisfied: cycler>=0.10 in c:\\users\\sophiechen\\anaconda3\\lib\\site-packages (from matplotlib->object_detection) (0.11.0)\n",
      "Requirement already satisfied: fonttools>=4.22.0 in c:\\users\\sophiechen\\anaconda3\\lib\\site-packages (from matplotlib->object_detection) (4.25.0)\n",
      "Requirement already satisfied: kiwisolver>=1.0.1 in c:\\users\\sophiechen\\anaconda3\\lib\\site-packages (from matplotlib->object_detection) (1.3.2)\n",
      "Requirement already satisfied: numpy>=1.17 in c:\\users\\sophiechen\\anaconda3\\lib\\site-packages (from matplotlib->object_detection) (1.21.5)\n",
      "Requirement already satisfied: packaging>=20.0 in c:\\users\\sophiechen\\anaconda3\\lib\\site-packages (from matplotlib->object_detection) (21.3)\n",
      "Requirement already satisfied: pyparsing>=2.2.1 in c:\\users\\sophiechen\\anaconda3\\lib\\site-packages (from matplotlib->object_detection) (2.4.7)\n",
      "Requirement already satisfied: python-dateutil>=2.7 in c:\\users\\sophiechen\\anaconda3\\lib\\site-packages (from matplotlib->object_detection) (2.8.2)\n",
      "Requirement already satisfied: tensorflow-intel==2.11.0 in c:\\users\\sophiechen\\anaconda3\\lib\\site-packages (from tensorflow->object_detection) (2.11.0)\n",
      "Requirement already satisfied: absl-py>=1.0.0 in c:\\users\\sophiechen\\anaconda3\\lib\\site-packages (from tensorflow-intel==2.11.0->tensorflow->object_detection) (1.4.0)\n",
      "Requirement already satisfied: astunparse>=1.6.0 in c:\\users\\sophiechen\\anaconda3\\lib\\site-packages (from tensorflow-intel==2.11.0->tensorflow->object_detection) (1.6.3)\n",
      "Requirement already satisfied: flatbuffers>=2.0 in c:\\users\\sophiechen\\anaconda3\\lib\\site-packages (from tensorflow-intel==2.11.0->tensorflow->object_detection) (23.1.21)\n",
      "Requirement already satisfied: gast<=0.4.0,>=0.2.1 in c:\\users\\sophiechen\\anaconda3\\lib\\site-packages (from tensorflow-intel==2.11.0->tensorflow->object_detection) (0.4.0)\n",
      "Requirement already satisfied: google-pasta>=0.1.1 in c:\\users\\sophiechen\\anaconda3\\lib\\site-packages (from tensorflow-intel==2.11.0->tensorflow->object_detection) (0.2.0)\n",
      "Requirement already satisfied: h5py>=2.9.0 in c:\\users\\sophiechen\\anaconda3\\lib\\site-packages (from tensorflow-intel==2.11.0->tensorflow->object_detection) (3.6.0)\n",
      "Requirement already satisfied: libclang>=13.0.0 in c:\\users\\sophiechen\\anaconda3\\lib\\site-packages (from tensorflow-intel==2.11.0->tensorflow->object_detection) (15.0.6.1)\n",
      "Requirement already satisfied: opt-einsum>=2.3.2 in c:\\users\\sophiechen\\anaconda3\\lib\\site-packages (from tensorflow-intel==2.11.0->tensorflow->object_detection) (3.3.0)\n",
      "Requirement already satisfied: protobuf<3.20,>=3.9.2 in c:\\users\\sophiechen\\anaconda3\\lib\\site-packages (from tensorflow-intel==2.11.0->tensorflow->object_detection) (3.19.6)\n",
      "Requirement already satisfied: setuptools in c:\\users\\sophiechen\\anaconda3\\lib\\site-packages (from tensorflow-intel==2.11.0->tensorflow->object_detection) (61.2.0)\n",
      "Requirement already satisfied: six>=1.12.0 in c:\\users\\sophiechen\\anaconda3\\lib\\site-packages (from tensorflow-intel==2.11.0->tensorflow->object_detection) (1.16.0)\n",
      "Requirement already satisfied: termcolor>=1.1.0 in c:\\users\\sophiechen\\anaconda3\\lib\\site-packages (from tensorflow-intel==2.11.0->tensorflow->object_detection) (1.1.0)\n",
      "Requirement already satisfied: typing-extensions>=3.6.6 in c:\\users\\sophiechen\\anaconda3\\lib\\site-packages (from tensorflow-intel==2.11.0->tensorflow->object_detection) (4.1.1)\n",
      "Requirement already satisfied: wrapt>=1.11.0 in c:\\users\\sophiechen\\anaconda3\\lib\\site-packages (from tensorflow-intel==2.11.0->tensorflow->object_detection) (1.12.1)\n",
      "Requirement already satisfied: grpcio<2.0,>=1.24.3 in c:\\users\\sophiechen\\anaconda3\\lib\\site-packages (from tensorflow-intel==2.11.0->tensorflow->object_detection) (1.42.0)\n",
      "Requirement already satisfied: tensorboard<2.12,>=2.11 in c:\\users\\sophiechen\\anaconda3\\lib\\site-packages (from tensorflow-intel==2.11.0->tensorflow->object_detection) (2.11.2)\n",
      "Requirement already satisfied: tensorflow-estimator<2.12,>=2.11.0 in c:\\users\\sophiechen\\anaconda3\\lib\\site-packages (from tensorflow-intel==2.11.0->tensorflow->object_detection) (2.11.0)\n",
      "Requirement already satisfied: keras<2.12,>=2.11.0 in c:\\users\\sophiechen\\anaconda3\\lib\\site-packages (from tensorflow-intel==2.11.0->tensorflow->object_detection) (2.11.0)\n",
      "Requirement already satisfied: tensorflow-io-gcs-filesystem>=0.23.1 in c:\\users\\sophiechen\\anaconda3\\lib\\site-packages (from tensorflow-intel==2.11.0->tensorflow->object_detection) (0.30.0)\n",
      "Requirement already satisfied: debugpy<2.0,>=1.0.0 in c:\\users\\sophiechen\\anaconda3\\lib\\site-packages (from ipykernel->jupyter->object_detection) (1.5.1)\n",
      "Requirement already satisfied: ipython>=7.23.1 in c:\\users\\sophiechen\\anaconda3\\lib\\site-packages (from ipykernel->jupyter->object_detection) (8.2.0)\n",
      "Requirement already satisfied: traitlets<6.0,>=5.1.0 in c:\\users\\sophiechen\\anaconda3\\lib\\site-packages (from ipykernel->jupyter->object_detection) (5.1.1)\n",
      "Requirement already satisfied: jupyter-client<8.0 in c:\\users\\sophiechen\\anaconda3\\lib\\site-packages (from ipykernel->jupyter->object_detection) (6.1.12)\n",
      "Requirement already satisfied: tornado<7.0,>=4.2 in c:\\users\\sophiechen\\anaconda3\\lib\\site-packages (from ipykernel->jupyter->object_detection) (6.1)\n",
      "Requirement already satisfied: matplotlib-inline<0.2.0,>=0.1.0 in c:\\users\\sophiechen\\anaconda3\\lib\\site-packages (from ipykernel->jupyter->object_detection) (0.1.2)\n",
      "Requirement already satisfied: nest-asyncio in c:\\users\\sophiechen\\anaconda3\\lib\\site-packages (from ipykernel->jupyter->object_detection) (1.5.5)\n",
      "Requirement already satisfied: ipython-genutils~=0.2.0 in c:\\users\\sophiechen\\anaconda3\\lib\\site-packages (from ipywidgets->jupyter->object_detection) (0.2.0)\n",
      "Requirement already satisfied: nbformat>=4.2.0 in c:\\users\\sophiechen\\anaconda3\\lib\\site-packages (from ipywidgets->jupyter->object_detection) (5.3.0)\n",
      "Requirement already satisfied: widgetsnbextension~=3.5.0 in c:\\users\\sophiechen\\anaconda3\\lib\\site-packages (from ipywidgets->jupyter->object_detection) (3.5.2)\n",
      "Requirement already satisfied: jupyterlab-widgets>=1.0.0 in c:\\users\\sophiechen\\anaconda3\\lib\\site-packages (from ipywidgets->jupyter->object_detection) (1.0.0)\n",
      "Requirement already satisfied: prompt-toolkit!=3.0.0,!=3.0.1,<3.1.0,>=2.0.0 in c:\\users\\sophiechen\\anaconda3\\lib\\site-packages (from jupyter-console->jupyter->object_detection) (3.0.20)\n",
      "Requirement already satisfied: pygments in c:\\users\\sophiechen\\anaconda3\\lib\\site-packages (from jupyter-console->jupyter->object_detection) (2.11.2)\n",
      "Requirement already satisfied: mistune<2,>=0.8.1 in c:\\users\\sophiechen\\anaconda3\\lib\\site-packages (from nbconvert->jupyter->object_detection) (0.8.4)\n",
      "Requirement already satisfied: jinja2>=2.4 in c:\\users\\sophiechen\\anaconda3\\lib\\site-packages (from nbconvert->jupyter->object_detection) (2.11.3)\n",
      "Requirement already satisfied: jupyterlab-pygments in c:\\users\\sophiechen\\anaconda3\\lib\\site-packages (from nbconvert->jupyter->object_detection) (0.1.2)\n",
      "Requirement already satisfied: jupyter-core in c:\\users\\sophiechen\\anaconda3\\lib\\site-packages (from nbconvert->jupyter->object_detection) (4.9.2)\n",
      "Requirement already satisfied: entrypoints>=0.2.2 in c:\\users\\sophiechen\\anaconda3\\lib\\site-packages (from nbconvert->jupyter->object_detection) (0.4)\n",
      "Requirement already satisfied: bleach in c:\\users\\sophiechen\\anaconda3\\lib\\site-packages (from nbconvert->jupyter->object_detection) (4.1.0)\n",
      "Requirement already satisfied: pandocfilters>=1.4.1 in c:\\users\\sophiechen\\anaconda3\\lib\\site-packages (from nbconvert->jupyter->object_detection) (1.5.0)\n",
      "Requirement already satisfied: testpath in c:\\users\\sophiechen\\anaconda3\\lib\\site-packages (from nbconvert->jupyter->object_detection) (0.5.0)\n",
      "Requirement already satisfied: defusedxml in c:\\users\\sophiechen\\anaconda3\\lib\\site-packages (from nbconvert->jupyter->object_detection) (0.7.1)\n",
      "Requirement already satisfied: beautifulsoup4 in c:\\users\\sophiechen\\anaconda3\\lib\\site-packages (from nbconvert->jupyter->object_detection) (4.11.1)\n",
      "Requirement already satisfied: nbclient<0.6.0,>=0.5.0 in c:\\users\\sophiechen\\anaconda3\\lib\\site-packages (from nbconvert->jupyter->object_detection) (0.5.13)\n",
      "Requirement already satisfied: pyzmq>=17 in c:\\users\\sophiechen\\anaconda3\\lib\\site-packages (from notebook->jupyter->object_detection) (22.3.0)\n",
      "Requirement already satisfied: argon2-cffi in c:\\users\\sophiechen\\anaconda3\\lib\\site-packages (from notebook->jupyter->object_detection) (21.3.0)\n",
      "Requirement already satisfied: Send2Trash>=1.8.0 in c:\\users\\sophiechen\\anaconda3\\lib\\site-packages (from notebook->jupyter->object_detection) (1.8.0)\n",
      "Requirement already satisfied: terminado>=0.8.3 in c:\\users\\sophiechen\\anaconda3\\lib\\site-packages (from notebook->jupyter->object_detection) (0.13.1)\n",
      "Requirement already satisfied: prometheus-client in c:\\users\\sophiechen\\anaconda3\\lib\\site-packages (from notebook->jupyter->object_detection) (0.13.1)\n",
      "Requirement already satisfied: qtpy>=2.0.1 in c:\\users\\sophiechen\\anaconda3\\lib\\site-packages (from qtconsole->jupyter->object_detection) (2.0.1)\n",
      "Requirement already satisfied: wheel<1.0,>=0.23.0 in c:\\users\\sophiechen\\anaconda3\\lib\\site-packages (from astunparse>=1.6.0->tensorflow-intel==2.11.0->tensorflow->object_detection) (0.37.1)\n",
      "Requirement already satisfied: backcall in c:\\users\\sophiechen\\anaconda3\\lib\\site-packages (from ipython>=7.23.1->ipykernel->jupyter->object_detection) (0.2.0)\n",
      "Requirement already satisfied: decorator in c:\\users\\sophiechen\\anaconda3\\lib\\site-packages (from ipython>=7.23.1->ipykernel->jupyter->object_detection) (5.1.1)\n",
      "Requirement already satisfied: jedi>=0.16 in c:\\users\\sophiechen\\anaconda3\\lib\\site-packages (from ipython>=7.23.1->ipykernel->jupyter->object_detection) (0.18.1)\n",
      "Requirement already satisfied: pickleshare in c:\\users\\sophiechen\\anaconda3\\lib\\site-packages (from ipython>=7.23.1->ipykernel->jupyter->object_detection) (0.7.5)\n",
      "Requirement already satisfied: stack-data in c:\\users\\sophiechen\\anaconda3\\lib\\site-packages (from ipython>=7.23.1->ipykernel->jupyter->object_detection) (0.2.0)\n",
      "Requirement already satisfied: colorama in c:\\users\\sophiechen\\anaconda3\\lib\\site-packages (from ipython>=7.23.1->ipykernel->jupyter->object_detection) (0.4.4)\n",
      "Requirement already satisfied: MarkupSafe>=0.23 in c:\\users\\sophiechen\\anaconda3\\lib\\site-packages (from jinja2>=2.4->nbconvert->jupyter->object_detection) (2.0.1)\n",
      "Requirement already satisfied: pywin32>=1.0 in c:\\users\\sophiechen\\anaconda3\\lib\\site-packages (from jupyter-core->nbconvert->jupyter->object_detection) (302)\n",
      "Requirement already satisfied: jsonschema>=2.6 in c:\\users\\sophiechen\\anaconda3\\lib\\site-packages (from nbformat>=4.2.0->ipywidgets->jupyter->object_detection) (4.4.0)\n",
      "Requirement already satisfied: fastjsonschema in c:\\users\\sophiechen\\anaconda3\\lib\\site-packages (from nbformat>=4.2.0->ipywidgets->jupyter->object_detection) (2.15.1)\n",
      "Requirement already satisfied: wcwidth in c:\\users\\sophiechen\\anaconda3\\lib\\site-packages (from prompt-toolkit!=3.0.0,!=3.0.1,<3.1.0,>=2.0.0->jupyter-console->jupyter->object_detection) (0.2.5)\n",
      "Requirement already satisfied: google-auth<3,>=1.6.3 in c:\\users\\sophiechen\\anaconda3\\lib\\site-packages (from tensorboard<2.12,>=2.11->tensorflow-intel==2.11.0->tensorflow->object_detection) (2.17.3)\n",
      "Requirement already satisfied: google-auth-oauthlib<0.5,>=0.4.1 in c:\\users\\sophiechen\\anaconda3\\lib\\site-packages (from tensorboard<2.12,>=2.11->tensorflow-intel==2.11.0->tensorflow->object_detection) (0.4.6)\n",
      "Requirement already satisfied: markdown>=2.6.8 in c:\\users\\sophiechen\\anaconda3\\lib\\site-packages (from tensorboard<2.12,>=2.11->tensorflow-intel==2.11.0->tensorflow->object_detection) (3.3.4)\n",
      "Requirement already satisfied: requests<3,>=2.21.0 in c:\\users\\sophiechen\\anaconda3\\lib\\site-packages (from tensorboard<2.12,>=2.11->tensorflow-intel==2.11.0->tensorflow->object_detection) (2.27.1)\n",
      "Requirement already satisfied: tensorboard-data-server<0.7.0,>=0.6.0 in c:\\users\\sophiechen\\anaconda3\\lib\\site-packages (from tensorboard<2.12,>=2.11->tensorflow-intel==2.11.0->tensorflow->object_detection) (0.6.1)\n",
      "Requirement already satisfied: tensorboard-plugin-wit>=1.6.0 in c:\\users\\sophiechen\\anaconda3\\lib\\site-packages (from tensorboard<2.12,>=2.11->tensorflow-intel==2.11.0->tensorflow->object_detection) (1.8.1)\n",
      "Requirement already satisfied: werkzeug>=1.0.1 in c:\\users\\sophiechen\\anaconda3\\lib\\site-packages (from tensorboard<2.12,>=2.11->tensorflow-intel==2.11.0->tensorflow->object_detection) (2.0.3)\n",
      "Requirement already satisfied: pywinpty>=1.1.0 in c:\\users\\sophiechen\\anaconda3\\lib\\site-packages (from terminado>=0.8.3->notebook->jupyter->object_detection) (2.0.2)\n",
      "Requirement already satisfied: argon2-cffi-bindings in c:\\users\\sophiechen\\anaconda3\\lib\\site-packages (from argon2-cffi->notebook->jupyter->object_detection) (21.2.0)\n",
      "Requirement already satisfied: soupsieve>1.2 in c:\\users\\sophiechen\\anaconda3\\lib\\site-packages (from beautifulsoup4->nbconvert->jupyter->object_detection) (2.3.1)\n",
      "Requirement already satisfied: webencodings in c:\\users\\sophiechen\\anaconda3\\lib\\site-packages (from bleach->nbconvert->jupyter->object_detection) (0.5.1)"
     ]
    },
    {
     "name": "stderr",
     "output_type": "stream",
     "text": [
      "\n",
      "WARNING: Ignoring invalid distribution -rotobuf (c:\\users\\sophiechen\\anaconda3\\lib\\site-packages)\n"
     ]
    }
   ],
   "source": [
    "!pip install object_detection"
   ]
  },
  {
   "cell_type": "code",
   "execution_count": 11,
   "metadata": {},
   "outputs": [],
   "source": [
    "import tensorflow as tf\n",
    "from object_detection.utils import config_util\n",
    "from object_detection.protos import pipeline_pb2\n",
    "from google.protobuf import text_format"
   ]
  },
  {
   "cell_type": "code",
   "execution_count": 12,
   "metadata": {},
   "outputs": [
    {
     "name": "stdout",
     "output_type": "stream",
     "text": [
      "Tensorflow/workspace/models/sign_model/pipeline.config\n"
     ]
    },
    {
     "ename": "ParseError",
     "evalue": "172:3 : Message type \"object_detection.protos.TrainConfig\" has no field named \"fine_tune_checkpoint_version\".",
     "output_type": "error",
     "traceback": [
      "\u001b[1;31m---------------------------------------------------------------------------\u001b[0m",
      "\u001b[1;31mParseError\u001b[0m                                Traceback (most recent call last)",
      "Input \u001b[1;32mIn [12]\u001b[0m, in \u001b[0;36m<cell line: 3>\u001b[1;34m()\u001b[0m\n\u001b[0;32m      1\u001b[0m CONFIG_PATH \u001b[38;5;241m=\u001b[39m MODEL_PATH\u001b[38;5;241m+\u001b[39m\u001b[38;5;124m'\u001b[39m\u001b[38;5;124m/\u001b[39m\u001b[38;5;124m'\u001b[39m\u001b[38;5;241m+\u001b[39mCUSTOM_MODEL_NAME\u001b[38;5;241m+\u001b[39m\u001b[38;5;124m'\u001b[39m\u001b[38;5;124m/pipeline.config\u001b[39m\u001b[38;5;124m'\u001b[39m\n\u001b[0;32m      2\u001b[0m \u001b[38;5;28mprint\u001b[39m(CONFIG_PATH)\n\u001b[1;32m----> 3\u001b[0m config \u001b[38;5;241m=\u001b[39m \u001b[43mconfig_util\u001b[49m\u001b[38;5;241;43m.\u001b[39;49m\u001b[43mget_configs_from_pipeline_file\u001b[49m\u001b[43m(\u001b[49m\u001b[43mCONFIG_PATH\u001b[49m\u001b[43m)\u001b[49m\n",
      "File \u001b[1;32m~\\anaconda3\\lib\\site-packages\\object_detection\\utils\\config_util.py:98\u001b[0m, in \u001b[0;36mget_configs_from_pipeline_file\u001b[1;34m(pipeline_config_path, config_override)\u001b[0m\n\u001b[0;32m     96\u001b[0m \u001b[38;5;28;01mwith\u001b[39;00m tf\u001b[38;5;241m.\u001b[39mio\u001b[38;5;241m.\u001b[39mgfile\u001b[38;5;241m.\u001b[39mGFile(pipeline_config_path, \u001b[38;5;124m\"\u001b[39m\u001b[38;5;124mr\u001b[39m\u001b[38;5;124m\"\u001b[39m) \u001b[38;5;28;01mas\u001b[39;00m f:\n\u001b[0;32m     97\u001b[0m   proto_str \u001b[38;5;241m=\u001b[39m f\u001b[38;5;241m.\u001b[39mread()\n\u001b[1;32m---> 98\u001b[0m   \u001b[43mtext_format\u001b[49m\u001b[38;5;241;43m.\u001b[39;49m\u001b[43mMerge\u001b[49m\u001b[43m(\u001b[49m\u001b[43mproto_str\u001b[49m\u001b[43m,\u001b[49m\u001b[43m \u001b[49m\u001b[43mpipeline_config\u001b[49m\u001b[43m)\u001b[49m\n\u001b[0;32m     99\u001b[0m \u001b[38;5;28;01mif\u001b[39;00m config_override:\n\u001b[0;32m    100\u001b[0m   text_format\u001b[38;5;241m.\u001b[39mMerge(config_override, pipeline_config)\n",
      "File \u001b[1;32m~\\anaconda3\\lib\\site-packages\\google\\protobuf\\text_format.py:719\u001b[0m, in \u001b[0;36mMerge\u001b[1;34m(text, message, allow_unknown_extension, allow_field_number, descriptor_pool, allow_unknown_field)\u001b[0m\n\u001b[0;32m    690\u001b[0m \u001b[38;5;28;01mdef\u001b[39;00m \u001b[38;5;21mMerge\u001b[39m(text,\n\u001b[0;32m    691\u001b[0m           message,\n\u001b[0;32m    692\u001b[0m           allow_unknown_extension\u001b[38;5;241m=\u001b[39m\u001b[38;5;28;01mFalse\u001b[39;00m,\n\u001b[0;32m    693\u001b[0m           allow_field_number\u001b[38;5;241m=\u001b[39m\u001b[38;5;28;01mFalse\u001b[39;00m,\n\u001b[0;32m    694\u001b[0m           descriptor_pool\u001b[38;5;241m=\u001b[39m\u001b[38;5;28;01mNone\u001b[39;00m,\n\u001b[0;32m    695\u001b[0m           allow_unknown_field\u001b[38;5;241m=\u001b[39m\u001b[38;5;28;01mFalse\u001b[39;00m):\n\u001b[0;32m    696\u001b[0m   \u001b[38;5;124;03m\"\"\"Parses a text representation of a protocol message into a message.\u001b[39;00m\n\u001b[0;32m    697\u001b[0m \n\u001b[0;32m    698\u001b[0m \u001b[38;5;124;03m  Like Parse(), but allows repeated values for a non-repeated field, and uses\u001b[39;00m\n\u001b[1;32m   (...)\u001b[0m\n\u001b[0;32m    717\u001b[0m \u001b[38;5;124;03m    ParseError: On text parsing problems.\u001b[39;00m\n\u001b[0;32m    718\u001b[0m \u001b[38;5;124;03m  \"\"\"\u001b[39;00m\n\u001b[1;32m--> 719\u001b[0m   \u001b[38;5;28;01mreturn\u001b[39;00m \u001b[43mMergeLines\u001b[49m\u001b[43m(\u001b[49m\n\u001b[0;32m    720\u001b[0m \u001b[43m      \u001b[49m\u001b[43mtext\u001b[49m\u001b[38;5;241;43m.\u001b[39;49m\u001b[43msplit\u001b[49m\u001b[43m(\u001b[49m\u001b[38;5;124;43mb\u001b[39;49m\u001b[38;5;124;43m'\u001b[39;49m\u001b[38;5;130;43;01m\\n\u001b[39;49;00m\u001b[38;5;124;43m'\u001b[39;49m\u001b[43m \u001b[49m\u001b[38;5;28;43;01mif\u001b[39;49;00m\u001b[43m \u001b[49m\u001b[38;5;28;43misinstance\u001b[39;49m\u001b[43m(\u001b[49m\u001b[43mtext\u001b[49m\u001b[43m,\u001b[49m\u001b[43m \u001b[49m\u001b[38;5;28;43mbytes\u001b[39;49m\u001b[43m)\u001b[49m\u001b[43m \u001b[49m\u001b[38;5;28;43;01melse\u001b[39;49;00m\u001b[43m \u001b[49m\u001b[38;5;124;43mu\u001b[39;49m\u001b[38;5;124;43m'\u001b[39;49m\u001b[38;5;130;43;01m\\n\u001b[39;49;00m\u001b[38;5;124;43m'\u001b[39;49m\u001b[43m)\u001b[49m\u001b[43m,\u001b[49m\n\u001b[0;32m    721\u001b[0m \u001b[43m      \u001b[49m\u001b[43mmessage\u001b[49m\u001b[43m,\u001b[49m\n\u001b[0;32m    722\u001b[0m \u001b[43m      \u001b[49m\u001b[43mallow_unknown_extension\u001b[49m\u001b[43m,\u001b[49m\n\u001b[0;32m    723\u001b[0m \u001b[43m      \u001b[49m\u001b[43mallow_field_number\u001b[49m\u001b[43m,\u001b[49m\n\u001b[0;32m    724\u001b[0m \u001b[43m      \u001b[49m\u001b[43mdescriptor_pool\u001b[49m\u001b[38;5;241;43m=\u001b[39;49m\u001b[43mdescriptor_pool\u001b[49m\u001b[43m,\u001b[49m\n\u001b[0;32m    725\u001b[0m \u001b[43m      \u001b[49m\u001b[43mallow_unknown_field\u001b[49m\u001b[38;5;241;43m=\u001b[39;49m\u001b[43mallow_unknown_field\u001b[49m\u001b[43m)\u001b[49m\n",
      "File \u001b[1;32m~\\anaconda3\\lib\\site-packages\\google\\protobuf\\text_format.py:793\u001b[0m, in \u001b[0;36mMergeLines\u001b[1;34m(lines, message, allow_unknown_extension, allow_field_number, descriptor_pool, allow_unknown_field)\u001b[0m\n\u001b[0;32m    768\u001b[0m \u001b[38;5;124;03m\"\"\"Parses a text representation of a protocol message into a message.\u001b[39;00m\n\u001b[0;32m    769\u001b[0m \n\u001b[0;32m    770\u001b[0m \u001b[38;5;124;03mSee Merge() for more details.\u001b[39;00m\n\u001b[1;32m   (...)\u001b[0m\n\u001b[0;32m    787\u001b[0m \u001b[38;5;124;03m  ParseError: On text parsing problems.\u001b[39;00m\n\u001b[0;32m    788\u001b[0m \u001b[38;5;124;03m\"\"\"\u001b[39;00m\n\u001b[0;32m    789\u001b[0m parser \u001b[38;5;241m=\u001b[39m _Parser(allow_unknown_extension,\n\u001b[0;32m    790\u001b[0m                  allow_field_number,\n\u001b[0;32m    791\u001b[0m                  descriptor_pool\u001b[38;5;241m=\u001b[39mdescriptor_pool,\n\u001b[0;32m    792\u001b[0m                  allow_unknown_field\u001b[38;5;241m=\u001b[39mallow_unknown_field)\n\u001b[1;32m--> 793\u001b[0m \u001b[38;5;28;01mreturn\u001b[39;00m \u001b[43mparser\u001b[49m\u001b[38;5;241;43m.\u001b[39;49m\u001b[43mMergeLines\u001b[49m\u001b[43m(\u001b[49m\u001b[43mlines\u001b[49m\u001b[43m,\u001b[49m\u001b[43m \u001b[49m\u001b[43mmessage\u001b[49m\u001b[43m)\u001b[49m\n",
      "File \u001b[1;32m~\\anaconda3\\lib\\site-packages\\google\\protobuf\\text_format.py:818\u001b[0m, in \u001b[0;36m_Parser.MergeLines\u001b[1;34m(self, lines, message)\u001b[0m\n\u001b[0;32m    816\u001b[0m \u001b[38;5;124;03m\"\"\"Merges a text representation of a protocol message into a message.\"\"\"\u001b[39;00m\n\u001b[0;32m    817\u001b[0m \u001b[38;5;28mself\u001b[39m\u001b[38;5;241m.\u001b[39m_allow_multiple_scalars \u001b[38;5;241m=\u001b[39m \u001b[38;5;28;01mTrue\u001b[39;00m\n\u001b[1;32m--> 818\u001b[0m \u001b[38;5;28;43mself\u001b[39;49m\u001b[38;5;241;43m.\u001b[39;49m\u001b[43m_ParseOrMerge\u001b[49m\u001b[43m(\u001b[49m\u001b[43mlines\u001b[49m\u001b[43m,\u001b[49m\u001b[43m \u001b[49m\u001b[43mmessage\u001b[49m\u001b[43m)\u001b[49m\n\u001b[0;32m    819\u001b[0m \u001b[38;5;28;01mreturn\u001b[39;00m message\n",
      "File \u001b[1;32m~\\anaconda3\\lib\\site-packages\\google\\protobuf\\text_format.py:837\u001b[0m, in \u001b[0;36m_Parser._ParseOrMerge\u001b[1;34m(self, lines, message)\u001b[0m\n\u001b[0;32m    835\u001b[0m tokenizer \u001b[38;5;241m=\u001b[39m Tokenizer(str_lines)\n\u001b[0;32m    836\u001b[0m \u001b[38;5;28;01mwhile\u001b[39;00m \u001b[38;5;129;01mnot\u001b[39;00m tokenizer\u001b[38;5;241m.\u001b[39mAtEnd():\n\u001b[1;32m--> 837\u001b[0m   \u001b[38;5;28;43mself\u001b[39;49m\u001b[38;5;241;43m.\u001b[39;49m\u001b[43m_MergeField\u001b[49m\u001b[43m(\u001b[49m\u001b[43mtokenizer\u001b[49m\u001b[43m,\u001b[49m\u001b[43m \u001b[49m\u001b[43mmessage\u001b[49m\u001b[43m)\u001b[49m\n",
      "File \u001b[1;32m~\\anaconda3\\lib\\site-packages\\google\\protobuf\\text_format.py:967\u001b[0m, in \u001b[0;36m_Parser._MergeField\u001b[1;34m(self, tokenizer, message)\u001b[0m\n\u001b[0;32m    964\u001b[0m         tokenizer\u001b[38;5;241m.\u001b[39mConsume(\u001b[38;5;124m'\u001b[39m\u001b[38;5;124m,\u001b[39m\u001b[38;5;124m'\u001b[39m)\n\u001b[0;32m    966\u001b[0m   \u001b[38;5;28;01melse\u001b[39;00m:\n\u001b[1;32m--> 967\u001b[0m     \u001b[43mmerger\u001b[49m\u001b[43m(\u001b[49m\u001b[43mtokenizer\u001b[49m\u001b[43m,\u001b[49m\u001b[43m \u001b[49m\u001b[43mmessage\u001b[49m\u001b[43m,\u001b[49m\u001b[43m \u001b[49m\u001b[43mfield\u001b[49m\u001b[43m)\u001b[49m\n\u001b[0;32m    969\u001b[0m \u001b[38;5;28;01melse\u001b[39;00m:  \u001b[38;5;66;03m# Proto field is unknown.\u001b[39;00m\n\u001b[0;32m    970\u001b[0m   \u001b[38;5;28;01massert\u001b[39;00m (\u001b[38;5;28mself\u001b[39m\u001b[38;5;241m.\u001b[39mallow_unknown_extension \u001b[38;5;129;01mor\u001b[39;00m \u001b[38;5;28mself\u001b[39m\u001b[38;5;241m.\u001b[39mallow_unknown_field)\n",
      "File \u001b[1;32m~\\anaconda3\\lib\\site-packages\\google\\protobuf\\text_format.py:1042\u001b[0m, in \u001b[0;36m_Parser._MergeMessageField\u001b[1;34m(self, tokenizer, message, field)\u001b[0m\n\u001b[0;32m   1040\u001b[0m   \u001b[38;5;28;01mif\u001b[39;00m tokenizer\u001b[38;5;241m.\u001b[39mAtEnd():\n\u001b[0;32m   1041\u001b[0m     \u001b[38;5;28;01mraise\u001b[39;00m tokenizer\u001b[38;5;241m.\u001b[39mParseErrorPreviousToken(\u001b[38;5;124m'\u001b[39m\u001b[38;5;124mExpected \u001b[39m\u001b[38;5;124m\"\u001b[39m\u001b[38;5;132;01m%s\u001b[39;00m\u001b[38;5;124m\"\u001b[39m\u001b[38;5;124m.\u001b[39m\u001b[38;5;124m'\u001b[39m \u001b[38;5;241m%\u001b[39m (end_token,))\n\u001b[1;32m-> 1042\u001b[0m   \u001b[38;5;28;43mself\u001b[39;49m\u001b[38;5;241;43m.\u001b[39;49m\u001b[43m_MergeField\u001b[49m\u001b[43m(\u001b[49m\u001b[43mtokenizer\u001b[49m\u001b[43m,\u001b[49m\u001b[43m \u001b[49m\u001b[43msub_message\u001b[49m\u001b[43m)\u001b[49m\n\u001b[0;32m   1044\u001b[0m \u001b[38;5;28;01mif\u001b[39;00m is_map_entry:\n\u001b[0;32m   1045\u001b[0m   value_cpptype \u001b[38;5;241m=\u001b[39m field\u001b[38;5;241m.\u001b[39mmessage_type\u001b[38;5;241m.\u001b[39mfields_by_name[\u001b[38;5;124m'\u001b[39m\u001b[38;5;124mvalue\u001b[39m\u001b[38;5;124m'\u001b[39m]\u001b[38;5;241m.\u001b[39mcpp_type\n",
      "File \u001b[1;32m~\\anaconda3\\lib\\site-packages\\google\\protobuf\\text_format.py:932\u001b[0m, in \u001b[0;36m_Parser._MergeField\u001b[1;34m(self, tokenizer, message)\u001b[0m\n\u001b[0;32m    929\u001b[0m       field \u001b[38;5;241m=\u001b[39m \u001b[38;5;28;01mNone\u001b[39;00m\n\u001b[0;32m    931\u001b[0m   \u001b[38;5;28;01mif\u001b[39;00m \u001b[38;5;129;01mnot\u001b[39;00m field \u001b[38;5;129;01mand\u001b[39;00m \u001b[38;5;129;01mnot\u001b[39;00m \u001b[38;5;28mself\u001b[39m\u001b[38;5;241m.\u001b[39mallow_unknown_field:\n\u001b[1;32m--> 932\u001b[0m     \u001b[38;5;28;01mraise\u001b[39;00m tokenizer\u001b[38;5;241m.\u001b[39mParseErrorPreviousToken(\n\u001b[0;32m    933\u001b[0m         \u001b[38;5;124m'\u001b[39m\u001b[38;5;124mMessage type \u001b[39m\u001b[38;5;124m\"\u001b[39m\u001b[38;5;132;01m%s\u001b[39;00m\u001b[38;5;124m\"\u001b[39m\u001b[38;5;124m has no field named \u001b[39m\u001b[38;5;124m\"\u001b[39m\u001b[38;5;132;01m%s\u001b[39;00m\u001b[38;5;124m\"\u001b[39m\u001b[38;5;124m.\u001b[39m\u001b[38;5;124m'\u001b[39m \u001b[38;5;241m%\u001b[39m\n\u001b[0;32m    934\u001b[0m         (message_descriptor\u001b[38;5;241m.\u001b[39mfull_name, name))\n\u001b[0;32m    936\u001b[0m \u001b[38;5;28;01mif\u001b[39;00m field:\n\u001b[0;32m    937\u001b[0m   \u001b[38;5;28;01mif\u001b[39;00m \u001b[38;5;129;01mnot\u001b[39;00m \u001b[38;5;28mself\u001b[39m\u001b[38;5;241m.\u001b[39m_allow_multiple_scalars \u001b[38;5;129;01mand\u001b[39;00m field\u001b[38;5;241m.\u001b[39mcontaining_oneof:\n\u001b[0;32m    938\u001b[0m     \u001b[38;5;66;03m# Check if there's a different field set in this oneof.\u001b[39;00m\n\u001b[0;32m    939\u001b[0m     \u001b[38;5;66;03m# Note that we ignore the case if the same field was set before, and we\u001b[39;00m\n\u001b[0;32m    940\u001b[0m     \u001b[38;5;66;03m# apply _allow_multiple_scalars to non-scalar fields as well.\u001b[39;00m\n",
      "\u001b[1;31mParseError\u001b[0m: 172:3 : Message type \"object_detection.protos.TrainConfig\" has no field named \"fine_tune_checkpoint_version\"."
     ]
    }
   ],
   "source": [
    "CONFIG_PATH = MODEL_PATH+'/'+CUSTOM_MODEL_NAME+'/pipeline.config'\n",
    "print(CONFIG_PATH)\n",
    "config = config_util.get_configs_from_pipeline_file(CONFIG_PATH)"
   ]
  },
  {
   "cell_type": "markdown",
   "metadata": {},
   "source": [
    "- Our pipeline config:\n"
   ]
  },
  {
   "cell_type": "code",
   "execution_count": 15,
   "metadata": {},
   "outputs": [
    {
     "ename": "ParseError",
     "evalue": "172:3 : Message type \"object_detection.protos.TrainConfig\" has no field named \"fine_tune_checkpoint_version\".",
     "output_type": "error",
     "traceback": [
      "\u001b[1;31m---------------------------------------------------------------------------\u001b[0m",
      "\u001b[1;31mParseError\u001b[0m                                Traceback (most recent call last)",
      "Input \u001b[1;32mIn [15]\u001b[0m, in \u001b[0;36m<cell line: 2>\u001b[1;34m()\u001b[0m\n\u001b[0;32m      2\u001b[0m \u001b[38;5;28;01mwith\u001b[39;00m tf\u001b[38;5;241m.\u001b[39mio\u001b[38;5;241m.\u001b[39mgfile\u001b[38;5;241m.\u001b[39mGFile(CONFIG_PATH, \u001b[38;5;124m\"\u001b[39m\u001b[38;5;124mr\u001b[39m\u001b[38;5;124m\"\u001b[39m) \u001b[38;5;28;01mas\u001b[39;00m f:                                                                                                                                                                                                                     \n\u001b[0;32m      3\u001b[0m     proto_str \u001b[38;5;241m=\u001b[39m f\u001b[38;5;241m.\u001b[39mread()                                                                                                                                                                                                                                          \n\u001b[1;32m----> 4\u001b[0m     \u001b[43mtext_format\u001b[49m\u001b[38;5;241;43m.\u001b[39;49m\u001b[43mMerge\u001b[49m\u001b[43m(\u001b[49m\u001b[43mproto_str\u001b[49m\u001b[43m,\u001b[49m\u001b[43m \u001b[49m\u001b[43mpipeline_config\u001b[49m\u001b[43m)\u001b[49m\n",
      "File \u001b[1;32m~\\anaconda3\\lib\\site-packages\\google\\protobuf\\text_format.py:719\u001b[0m, in \u001b[0;36mMerge\u001b[1;34m(text, message, allow_unknown_extension, allow_field_number, descriptor_pool, allow_unknown_field)\u001b[0m\n\u001b[0;32m    690\u001b[0m \u001b[38;5;28;01mdef\u001b[39;00m \u001b[38;5;21mMerge\u001b[39m(text,\n\u001b[0;32m    691\u001b[0m           message,\n\u001b[0;32m    692\u001b[0m           allow_unknown_extension\u001b[38;5;241m=\u001b[39m\u001b[38;5;28;01mFalse\u001b[39;00m,\n\u001b[0;32m    693\u001b[0m           allow_field_number\u001b[38;5;241m=\u001b[39m\u001b[38;5;28;01mFalse\u001b[39;00m,\n\u001b[0;32m    694\u001b[0m           descriptor_pool\u001b[38;5;241m=\u001b[39m\u001b[38;5;28;01mNone\u001b[39;00m,\n\u001b[0;32m    695\u001b[0m           allow_unknown_field\u001b[38;5;241m=\u001b[39m\u001b[38;5;28;01mFalse\u001b[39;00m):\n\u001b[0;32m    696\u001b[0m   \u001b[38;5;124;03m\"\"\"Parses a text representation of a protocol message into a message.\u001b[39;00m\n\u001b[0;32m    697\u001b[0m \n\u001b[0;32m    698\u001b[0m \u001b[38;5;124;03m  Like Parse(), but allows repeated values for a non-repeated field, and uses\u001b[39;00m\n\u001b[1;32m   (...)\u001b[0m\n\u001b[0;32m    717\u001b[0m \u001b[38;5;124;03m    ParseError: On text parsing problems.\u001b[39;00m\n\u001b[0;32m    718\u001b[0m \u001b[38;5;124;03m  \"\"\"\u001b[39;00m\n\u001b[1;32m--> 719\u001b[0m   \u001b[38;5;28;01mreturn\u001b[39;00m \u001b[43mMergeLines\u001b[49m\u001b[43m(\u001b[49m\n\u001b[0;32m    720\u001b[0m \u001b[43m      \u001b[49m\u001b[43mtext\u001b[49m\u001b[38;5;241;43m.\u001b[39;49m\u001b[43msplit\u001b[49m\u001b[43m(\u001b[49m\u001b[38;5;124;43mb\u001b[39;49m\u001b[38;5;124;43m'\u001b[39;49m\u001b[38;5;130;43;01m\\n\u001b[39;49;00m\u001b[38;5;124;43m'\u001b[39;49m\u001b[43m \u001b[49m\u001b[38;5;28;43;01mif\u001b[39;49;00m\u001b[43m \u001b[49m\u001b[38;5;28;43misinstance\u001b[39;49m\u001b[43m(\u001b[49m\u001b[43mtext\u001b[49m\u001b[43m,\u001b[49m\u001b[43m \u001b[49m\u001b[38;5;28;43mbytes\u001b[39;49m\u001b[43m)\u001b[49m\u001b[43m \u001b[49m\u001b[38;5;28;43;01melse\u001b[39;49;00m\u001b[43m \u001b[49m\u001b[38;5;124;43mu\u001b[39;49m\u001b[38;5;124;43m'\u001b[39;49m\u001b[38;5;130;43;01m\\n\u001b[39;49;00m\u001b[38;5;124;43m'\u001b[39;49m\u001b[43m)\u001b[49m\u001b[43m,\u001b[49m\n\u001b[0;32m    721\u001b[0m \u001b[43m      \u001b[49m\u001b[43mmessage\u001b[49m\u001b[43m,\u001b[49m\n\u001b[0;32m    722\u001b[0m \u001b[43m      \u001b[49m\u001b[43mallow_unknown_extension\u001b[49m\u001b[43m,\u001b[49m\n\u001b[0;32m    723\u001b[0m \u001b[43m      \u001b[49m\u001b[43mallow_field_number\u001b[49m\u001b[43m,\u001b[49m\n\u001b[0;32m    724\u001b[0m \u001b[43m      \u001b[49m\u001b[43mdescriptor_pool\u001b[49m\u001b[38;5;241;43m=\u001b[39;49m\u001b[43mdescriptor_pool\u001b[49m\u001b[43m,\u001b[49m\n\u001b[0;32m    725\u001b[0m \u001b[43m      \u001b[49m\u001b[43mallow_unknown_field\u001b[49m\u001b[38;5;241;43m=\u001b[39;49m\u001b[43mallow_unknown_field\u001b[49m\u001b[43m)\u001b[49m\n",
      "File \u001b[1;32m~\\anaconda3\\lib\\site-packages\\google\\protobuf\\text_format.py:793\u001b[0m, in \u001b[0;36mMergeLines\u001b[1;34m(lines, message, allow_unknown_extension, allow_field_number, descriptor_pool, allow_unknown_field)\u001b[0m\n\u001b[0;32m    768\u001b[0m \u001b[38;5;124;03m\"\"\"Parses a text representation of a protocol message into a message.\u001b[39;00m\n\u001b[0;32m    769\u001b[0m \n\u001b[0;32m    770\u001b[0m \u001b[38;5;124;03mSee Merge() for more details.\u001b[39;00m\n\u001b[1;32m   (...)\u001b[0m\n\u001b[0;32m    787\u001b[0m \u001b[38;5;124;03m  ParseError: On text parsing problems.\u001b[39;00m\n\u001b[0;32m    788\u001b[0m \u001b[38;5;124;03m\"\"\"\u001b[39;00m\n\u001b[0;32m    789\u001b[0m parser \u001b[38;5;241m=\u001b[39m _Parser(allow_unknown_extension,\n\u001b[0;32m    790\u001b[0m                  allow_field_number,\n\u001b[0;32m    791\u001b[0m                  descriptor_pool\u001b[38;5;241m=\u001b[39mdescriptor_pool,\n\u001b[0;32m    792\u001b[0m                  allow_unknown_field\u001b[38;5;241m=\u001b[39mallow_unknown_field)\n\u001b[1;32m--> 793\u001b[0m \u001b[38;5;28;01mreturn\u001b[39;00m \u001b[43mparser\u001b[49m\u001b[38;5;241;43m.\u001b[39;49m\u001b[43mMergeLines\u001b[49m\u001b[43m(\u001b[49m\u001b[43mlines\u001b[49m\u001b[43m,\u001b[49m\u001b[43m \u001b[49m\u001b[43mmessage\u001b[49m\u001b[43m)\u001b[49m\n",
      "File \u001b[1;32m~\\anaconda3\\lib\\site-packages\\google\\protobuf\\text_format.py:818\u001b[0m, in \u001b[0;36m_Parser.MergeLines\u001b[1;34m(self, lines, message)\u001b[0m\n\u001b[0;32m    816\u001b[0m \u001b[38;5;124;03m\"\"\"Merges a text representation of a protocol message into a message.\"\"\"\u001b[39;00m\n\u001b[0;32m    817\u001b[0m \u001b[38;5;28mself\u001b[39m\u001b[38;5;241m.\u001b[39m_allow_multiple_scalars \u001b[38;5;241m=\u001b[39m \u001b[38;5;28;01mTrue\u001b[39;00m\n\u001b[1;32m--> 818\u001b[0m \u001b[38;5;28;43mself\u001b[39;49m\u001b[38;5;241;43m.\u001b[39;49m\u001b[43m_ParseOrMerge\u001b[49m\u001b[43m(\u001b[49m\u001b[43mlines\u001b[49m\u001b[43m,\u001b[49m\u001b[43m \u001b[49m\u001b[43mmessage\u001b[49m\u001b[43m)\u001b[49m\n\u001b[0;32m    819\u001b[0m \u001b[38;5;28;01mreturn\u001b[39;00m message\n",
      "File \u001b[1;32m~\\anaconda3\\lib\\site-packages\\google\\protobuf\\text_format.py:837\u001b[0m, in \u001b[0;36m_Parser._ParseOrMerge\u001b[1;34m(self, lines, message)\u001b[0m\n\u001b[0;32m    835\u001b[0m tokenizer \u001b[38;5;241m=\u001b[39m Tokenizer(str_lines)\n\u001b[0;32m    836\u001b[0m \u001b[38;5;28;01mwhile\u001b[39;00m \u001b[38;5;129;01mnot\u001b[39;00m tokenizer\u001b[38;5;241m.\u001b[39mAtEnd():\n\u001b[1;32m--> 837\u001b[0m   \u001b[38;5;28;43mself\u001b[39;49m\u001b[38;5;241;43m.\u001b[39;49m\u001b[43m_MergeField\u001b[49m\u001b[43m(\u001b[49m\u001b[43mtokenizer\u001b[49m\u001b[43m,\u001b[49m\u001b[43m \u001b[49m\u001b[43mmessage\u001b[49m\u001b[43m)\u001b[49m\n",
      "File \u001b[1;32m~\\anaconda3\\lib\\site-packages\\google\\protobuf\\text_format.py:967\u001b[0m, in \u001b[0;36m_Parser._MergeField\u001b[1;34m(self, tokenizer, message)\u001b[0m\n\u001b[0;32m    964\u001b[0m         tokenizer\u001b[38;5;241m.\u001b[39mConsume(\u001b[38;5;124m'\u001b[39m\u001b[38;5;124m,\u001b[39m\u001b[38;5;124m'\u001b[39m)\n\u001b[0;32m    966\u001b[0m   \u001b[38;5;28;01melse\u001b[39;00m:\n\u001b[1;32m--> 967\u001b[0m     \u001b[43mmerger\u001b[49m\u001b[43m(\u001b[49m\u001b[43mtokenizer\u001b[49m\u001b[43m,\u001b[49m\u001b[43m \u001b[49m\u001b[43mmessage\u001b[49m\u001b[43m,\u001b[49m\u001b[43m \u001b[49m\u001b[43mfield\u001b[49m\u001b[43m)\u001b[49m\n\u001b[0;32m    969\u001b[0m \u001b[38;5;28;01melse\u001b[39;00m:  \u001b[38;5;66;03m# Proto field is unknown.\u001b[39;00m\n\u001b[0;32m    970\u001b[0m   \u001b[38;5;28;01massert\u001b[39;00m (\u001b[38;5;28mself\u001b[39m\u001b[38;5;241m.\u001b[39mallow_unknown_extension \u001b[38;5;129;01mor\u001b[39;00m \u001b[38;5;28mself\u001b[39m\u001b[38;5;241m.\u001b[39mallow_unknown_field)\n",
      "File \u001b[1;32m~\\anaconda3\\lib\\site-packages\\google\\protobuf\\text_format.py:1042\u001b[0m, in \u001b[0;36m_Parser._MergeMessageField\u001b[1;34m(self, tokenizer, message, field)\u001b[0m\n\u001b[0;32m   1040\u001b[0m   \u001b[38;5;28;01mif\u001b[39;00m tokenizer\u001b[38;5;241m.\u001b[39mAtEnd():\n\u001b[0;32m   1041\u001b[0m     \u001b[38;5;28;01mraise\u001b[39;00m tokenizer\u001b[38;5;241m.\u001b[39mParseErrorPreviousToken(\u001b[38;5;124m'\u001b[39m\u001b[38;5;124mExpected \u001b[39m\u001b[38;5;124m\"\u001b[39m\u001b[38;5;132;01m%s\u001b[39;00m\u001b[38;5;124m\"\u001b[39m\u001b[38;5;124m.\u001b[39m\u001b[38;5;124m'\u001b[39m \u001b[38;5;241m%\u001b[39m (end_token,))\n\u001b[1;32m-> 1042\u001b[0m   \u001b[38;5;28;43mself\u001b[39;49m\u001b[38;5;241;43m.\u001b[39;49m\u001b[43m_MergeField\u001b[49m\u001b[43m(\u001b[49m\u001b[43mtokenizer\u001b[49m\u001b[43m,\u001b[49m\u001b[43m \u001b[49m\u001b[43msub_message\u001b[49m\u001b[43m)\u001b[49m\n\u001b[0;32m   1044\u001b[0m \u001b[38;5;28;01mif\u001b[39;00m is_map_entry:\n\u001b[0;32m   1045\u001b[0m   value_cpptype \u001b[38;5;241m=\u001b[39m field\u001b[38;5;241m.\u001b[39mmessage_type\u001b[38;5;241m.\u001b[39mfields_by_name[\u001b[38;5;124m'\u001b[39m\u001b[38;5;124mvalue\u001b[39m\u001b[38;5;124m'\u001b[39m]\u001b[38;5;241m.\u001b[39mcpp_type\n",
      "File \u001b[1;32m~\\anaconda3\\lib\\site-packages\\google\\protobuf\\text_format.py:932\u001b[0m, in \u001b[0;36m_Parser._MergeField\u001b[1;34m(self, tokenizer, message)\u001b[0m\n\u001b[0;32m    929\u001b[0m       field \u001b[38;5;241m=\u001b[39m \u001b[38;5;28;01mNone\u001b[39;00m\n\u001b[0;32m    931\u001b[0m   \u001b[38;5;28;01mif\u001b[39;00m \u001b[38;5;129;01mnot\u001b[39;00m field \u001b[38;5;129;01mand\u001b[39;00m \u001b[38;5;129;01mnot\u001b[39;00m \u001b[38;5;28mself\u001b[39m\u001b[38;5;241m.\u001b[39mallow_unknown_field:\n\u001b[1;32m--> 932\u001b[0m     \u001b[38;5;28;01mraise\u001b[39;00m tokenizer\u001b[38;5;241m.\u001b[39mParseErrorPreviousToken(\n\u001b[0;32m    933\u001b[0m         \u001b[38;5;124m'\u001b[39m\u001b[38;5;124mMessage type \u001b[39m\u001b[38;5;124m\"\u001b[39m\u001b[38;5;132;01m%s\u001b[39;00m\u001b[38;5;124m\"\u001b[39m\u001b[38;5;124m has no field named \u001b[39m\u001b[38;5;124m\"\u001b[39m\u001b[38;5;132;01m%s\u001b[39;00m\u001b[38;5;124m\"\u001b[39m\u001b[38;5;124m.\u001b[39m\u001b[38;5;124m'\u001b[39m \u001b[38;5;241m%\u001b[39m\n\u001b[0;32m    934\u001b[0m         (message_descriptor\u001b[38;5;241m.\u001b[39mfull_name, name))\n\u001b[0;32m    936\u001b[0m \u001b[38;5;28;01mif\u001b[39;00m field:\n\u001b[0;32m    937\u001b[0m   \u001b[38;5;28;01mif\u001b[39;00m \u001b[38;5;129;01mnot\u001b[39;00m \u001b[38;5;28mself\u001b[39m\u001b[38;5;241m.\u001b[39m_allow_multiple_scalars \u001b[38;5;129;01mand\u001b[39;00m field\u001b[38;5;241m.\u001b[39mcontaining_oneof:\n\u001b[0;32m    938\u001b[0m     \u001b[38;5;66;03m# Check if there's a different field set in this oneof.\u001b[39;00m\n\u001b[0;32m    939\u001b[0m     \u001b[38;5;66;03m# Note that we ignore the case if the same field was set before, and we\u001b[39;00m\n\u001b[0;32m    940\u001b[0m     \u001b[38;5;66;03m# apply _allow_multiple_scalars to non-scalar fields as well.\u001b[39;00m\n",
      "\u001b[1;31mParseError\u001b[0m: 172:3 : Message type \"object_detection.protos.TrainConfig\" has no field named \"fine_tune_checkpoint_version\"."
     ]
    }
   ],
   "source": [
    "pipeline_config = pipeline_pb2.TrainEvalPipelineConfig()\n",
    "with tf.io.gfile.GFile(CONFIG_PATH, \"r\") as f:                                                                                                                                                                                                                     \n",
    "    proto_str = f.read()                                                                                                                                                                                                                                          \n",
    "    text_format.Merge(proto_str, pipeline_config)  "
   ]
  },
  {
   "cell_type": "code",
   "execution_count": 13,
   "metadata": {},
   "outputs": [
    {
     "data": {
      "text/plain": [
       "5"
      ]
     },
     "execution_count": 13,
     "metadata": {},
     "output_type": "execute_result"
    }
   ],
   "source": [
    "len(labels) #check how many label to detect"
   ]
  },
  {
   "cell_type": "markdown",
   "metadata": {},
   "source": [
    "- Update our pipeline config"
   ]
  },
  {
   "cell_type": "code",
   "execution_count": 14,
   "metadata": {},
   "outputs": [
    {
     "ename": "NameError",
     "evalue": "name 'pipeline_config' is not defined",
     "output_type": "error",
     "traceback": [
      "\u001b[1;31m---------------------------------------------------------------------------\u001b[0m",
      "\u001b[1;31mNameError\u001b[0m                                 Traceback (most recent call last)",
      "Input \u001b[1;32mIn [14]\u001b[0m, in \u001b[0;36m<cell line: 1>\u001b[1;34m()\u001b[0m\n\u001b[1;32m----> 1\u001b[0m \u001b[43mpipeline_config\u001b[49m\u001b[38;5;241m.\u001b[39mmodel\u001b[38;5;241m.\u001b[39mssd\u001b[38;5;241m.\u001b[39mnum_classes \u001b[38;5;241m=\u001b[39m \u001b[38;5;28mlen\u001b[39m(labels)  \u001b[38;5;66;03m#number of class we have\u001b[39;00m\n\u001b[0;32m      2\u001b[0m pipeline_config\u001b[38;5;241m.\u001b[39mtrain_config\u001b[38;5;241m.\u001b[39mbatch_size \u001b[38;5;241m=\u001b[39m \u001b[38;5;241m4\u001b[39m\n\u001b[0;32m      3\u001b[0m pipeline_config\u001b[38;5;241m.\u001b[39mtrain_config\u001b[38;5;241m.\u001b[39mfine_tune_checkpoint \u001b[38;5;241m=\u001b[39m PRETRAINED_MODEL_PATH\u001b[38;5;241m+\u001b[39m\u001b[38;5;124m'\u001b[39m\u001b[38;5;124m/ssd_mobilenet_v2_fpnlite_320x320_coco17_tpu-8/checkpoint/ckpt-0\u001b[39m\u001b[38;5;124m'\u001b[39m  \u001b[38;5;66;03m#use transfer learning to train faster from checkpoints\u001b[39;00m\n",
      "\u001b[1;31mNameError\u001b[0m: name 'pipeline_config' is not defined"
     ]
    }
   ],
   "source": [
    "pipeline_config.model.ssd.num_classes = len(labels)  #number of class we have\n",
    "pipeline_config.train_config.batch_size = 4\n",
    "pipeline_config.train_config.fine_tune_checkpoint = PRETRAINED_MODEL_PATH+'/ssd_mobilenet_v2_fpnlite_320x320_coco17_tpu-8/checkpoint/ckpt-0'  #use transfer learning to train faster from checkpoints\n",
    "pipeline_config.train_config.fine_tune_checkpoint_type = \"detection\"\n",
    "pipeline_config.train_input_reader.label_map_path= ANNOTATION_PATH + '/label_map.pbtxt'\n",
    "pipeline_config.train_input_reader.tf_record_input_reader.input_path[:] = [ANNOTATION_PATH + '/train.record']\n",
    "pipeline_config.eval_input_reader[0].label_map_path = ANNOTATION_PATH + '/label_map.pbtxt'\n",
    "pipeline_config.eval_input_reader[0].tf_record_input_reader.input_path[:] = [ANNOTATION_PATH + '/test.record']\n",
    "config_text = text_format.MessageToString(pipeline_config)                                                                                                                                                                                                        \n",
    "with tf.io.gfile.GFile(CONFIG_PATH, \"wb\") as f:                                                                                                                                                                                                                     \n",
    "    f.write(config_text)   "
   ]
  },
  {
   "cell_type": "code",
   "execution_count": null,
   "metadata": {},
   "outputs": [],
   "source": [
    "pipeline_config"
   ]
  },
  {
   "cell_type": "markdown",
   "metadata": {},
   "source": [
    "# Training (NEW)"
   ]
  },
  {
   "cell_type": "markdown",
   "metadata": {},
   "source": [
    "if re-train:\n",
    "#delete check point in Tensotflow/model/sign_model if needed\n",
    "#delete check point in Tensotflow/model/annotations if needed"
   ]
  },
  {
   "cell_type": "code",
   "execution_count": null,
   "metadata": {},
   "outputs": [],
   "source": [
    "from pathlib import Path\n",
    "import imghdr"
   ]
  },
  {
   "cell_type": "markdown",
   "metadata": {},
   "source": [
    "<img src=\"pic/pretrainmodel.jpg\">"
   ]
  },
  {
   "cell_type": "markdown",
   "metadata": {},
   "source": [
    "<img src=\"pic/annotations.jpg\">"
   ]
  },
  {
   "cell_type": "markdown",
   "metadata": {},
   "source": [
    "- Model Training: Run in CMD!!! Copy and paste the following to CMD to start training the model.\n",
    "\n"
   ]
  },
  {
   "cell_type": "code",
   "execution_count": null,
   "metadata": {},
   "outputs": [],
   "source": [
    "print(\"\"\"python {}/research/object_detection/model_main_tf2.py --model_dir={}/{} --pipeline_config_path={}/{}/pipeline.config --num_train_steps=10000\"\"\".format(APIMODEL_PATH, MODEL_PATH,CUSTOM_MODEL_NAME,MODEL_PATH,CUSTOM_MODEL_NAME))"
   ]
  },
  {
   "cell_type": "markdown",
   "metadata": {},
   "source": [
    "<img src=\"pic/train.jpg\">"
   ]
  },
  {
   "cell_type": "markdown",
   "metadata": {},
   "source": [
    "- Model summary: Run in CMD!!! Copy and paste the following to CMD to see the model performance\n",
    "\n"
   ]
  },
  {
   "cell_type": "code",
   "execution_count": null,
   "metadata": {},
   "outputs": [],
   "source": [
    "print(\"\"\"python {}/research/object_detection/model_main_tf2.py --model_dir={}/{} --pipeline_config_path={}/{}/pipeline.config --checkpoint_dir={}/{}\"\"\".format(APIMODEL_PATH, MODEL_PATH,CUSTOM_MODEL_NAME,MODEL_PATH,CUSTOM_MODEL_NAME,MODEL_PATH,CUSTOM_MODEL_NAME))"
   ]
  },
  {
   "cell_type": "markdown",
   "metadata": {},
   "source": [
    "<img src=\"pic/performance.jpg\">"
   ]
  },
  {
   "cell_type": "markdown",
   "metadata": {},
   "source": [
    "# Load pre-trained model"
   ]
  },
  {
   "cell_type": "code",
   "execution_count": null,
   "metadata": {},
   "outputs": [],
   "source": [
    "import os\n",
    "from object_detection.utils import label_map_util\n",
    "from object_detection.utils import visualization_utils as viz_utils\n",
    "from object_detection.builders import model_builder\n",
    "import tensorflow as tf\n",
    "from object_detection.utils import config_util\n",
    "from object_detection.protos import pipeline_pb2\n",
    "from google.protobuf import text_format\n",
    "WORKSPACE_PATH = 'Tensorflow/workspace'\n",
    "SCRIPTS_PATH = 'Tensorflow/scripts'\n",
    "APIMODEL_PATH = 'Tensorflow/models'\n",
    "ANNOTATION_PATH = WORKSPACE_PATH+'/annotations'\n",
    "IMAGE_PATH = WORKSPACE_PATH+'/images'\n",
    "MODEL_PATH = WORKSPACE_PATH+'/models'\n",
    "PRETRAINED_MODEL_PATH = WORKSPACE_PATH+'/pre-trained-models'\n",
    "CONFIG_PATH = MODEL_PATH+'/sign_model/pipeline.config'\n",
    "CHECKPOINT_PATH = MODEL_PATH+'/sign_model/'"
   ]
  },
  {
   "cell_type": "code",
   "execution_count": null,
   "metadata": {},
   "outputs": [],
   "source": [
    "configs = config_util.get_configs_from_pipeline_file(CONFIG_PATH)\n",
    "detection_model = model_builder.build(model_config=configs['model'], is_training=False)\n",
    "\n",
    "#look at the model path and use the latest checkpoint!!!!\n",
    "ckpt = tf.compat.v2.train.Checkpoint(model=detection_model)\n",
    "ckpt.restore(os.path.join(CHECKPOINT_PATH, 'ckpt-11')).expect_partial() \n",
    "\n",
    "@tf.function\n",
    "def detect_fn(image):\n",
    "    image, shapes = detection_model.preprocess(image)\n",
    "    prediction_dict = detection_model.predict(image, shapes)\n",
    "    detections = detection_model.postprocess(prediction_dict, shapes)\n",
    "    return detections"
   ]
  },
  {
   "cell_type": "markdown",
   "metadata": {},
   "source": [
    "# Test on Unseen Data"
   ]
  },
  {
   "cell_type": "code",
   "execution_count": null,
   "metadata": {},
   "outputs": [],
   "source": [
    "from io import BytesIO\n",
    "import matplotlib\n",
    "import matplotlib.pyplot as plt\n",
    "matplotlib.use('TkAgg')\n",
    "from PIL import Image, ImageDraw, ImageFont  \n",
    "\n",
    "WORKSPACE_PATH = 'Tensorflow/workspace'\n",
    "SCRIPTS_PATH = 'Tensorflow/scripts'\n",
    "APIMODEL_PATH = 'Tensorflow/models'\n",
    "ANNOTATION_PATH = WORKSPACE_PATH+'/annotations'\n",
    "IMAGE_PATH = WORKSPACE_PATH+'/images'\n",
    "MODEL_PATH = WORKSPACE_PATH+'/models'\n",
    "PRETRAINED_MODEL_PATH = WORKSPACE_PATH+'/pre-trained-models'\n",
    "CONFIG_PATH = MODEL_PATH+'/sign_model/pipeline.config'\n",
    "CHECKPOINT_PATH = MODEL_PATH+'/sign_model/'\n",
    "\n",
    "configs = config_util.get_configs_from_pipeline_file(CONFIG_PATH)\n",
    "detection_model = model_builder.build(model_config=configs['model'], is_training=False)\n",
    "\n",
    "#look at the model path and use the latest checkpoint!!!!\n",
    "ckpt = tf.compat.v2.train.Checkpoint(model=detection_model)\n",
    "ckpt.restore(os.path.join(CHECKPOINT_PATH, 'ckpt-11')).expect_partial() \n",
    "\n",
    "def load_image_into_numpy_array(path):\n",
    "   img_data = tf.io.gfile.GFile(path, 'rb').read()\n",
    "   image = Image.open(BytesIO(img_data))\n",
    "   (im_width, im_height) = image.size\n",
    "   return np.array(image.getdata()).reshape((im_height, im_width, 3)).astype(np.uint8)\n",
    "\n",
    "def get_keypoint_tuples(eval_config):\n",
    "   tuple_list = []\n",
    "   kp_list = eval_config.keypoint_edge\n",
    "   for edge in kp_list:\n",
    "     tuple_list.append((edge.start, edge.end))\n",
    "   return tuple_list\n",
    "\n",
    "@tf.function\n",
    "def detect_fn(image):\n",
    "    image, shapes = detection_model.preprocess(image) #resize image to 300x300\n",
    "    prediction_dict = detection_model.predict(image, shapes) #use detection model to predict\n",
    "    detections = detection_model.postprocess(prediction_dict, shapes) #preprocess again\n",
    "    return detections\n",
    "\n",
    "\n",
    "category_index = label_map_util.create_category_index_from_labelmap(ANNOTATION_PATH+'/label_map.pbtxt')\n",
    "\n",
    "\n",
    "image_dir = 'Tensorflow/workspace/images/test/' \n",
    "image_path = os.path.join(image_dir, '5.park18.jpg')\n",
    "image_np = load_image_into_numpy_array(image_path) \n",
    "input_tensor = tf.convert_to_tensor(np.expand_dims(image_np, 0), dtype=tf.float32)\n",
    "detections= detect_fn(input_tensor)\n",
    "num_detections = int(detections.pop('num_detections'))\n",
    "detections = {key: value[0, :num_detections].numpy()\n",
    "              for key, value in detections.items()}\n",
    "\n",
    "detections['num_detections'] = num_detections\n",
    "detections['detection_classes'] = detections['detection_classes'].astype(np.int64)\n",
    "\n",
    "label_id_offset = 1\n",
    "image_np_with_detections = image_np.copy()\n",
    "\n",
    "viz_utils.visualize_boxes_and_labels_on_image_array(\n",
    "            image_np_with_detections,\n",
    "            detections['detection_boxes'],\n",
    "            detections['detection_classes']+label_id_offset,\n",
    "            detections['detection_scores'],\n",
    "            category_index,\n",
    "            use_normalized_coordinates=True,\n",
    "            max_boxes_to_draw=5,\n",
    "            min_score_thresh=.5,\n",
    "            agnostic_mode=False)\n",
    "\n",
    "plt.figure(figsize=(12,16)) \n",
    "plt.imshow(image_np_with_detections) \n",
    "plt.show()\n",
    "# cv2.imshow('object detection',  cv2.resize(image_np_with_detections, (800, 600)))"
   ]
  },
  {
   "cell_type": "code",
   "execution_count": null,
   "metadata": {},
   "outputs": [],
   "source": [
    "category_index"
   ]
  },
  {
   "cell_type": "markdown",
   "metadata": {},
   "source": [
    "# OpenCV (Main)"
   ]
  },
  {
   "cell_type": "code",
   "execution_count": null,
   "metadata": {},
   "outputs": [],
   "source": [
    "print(cv2.__version__)"
   ]
  },
  {
   "cell_type": "code",
   "execution_count": null,
   "metadata": {},
   "outputs": [],
   "source": [
    "import os\n",
    "from object_detection.utils import label_map_util\n",
    "from object_detection.utils import visualization_utils as viz_utils\n",
    "from object_detection.builders import model_builder\n",
    "import tensorflow as tf\n",
    "from object_detection.utils import config_util\n",
    "from object_detection.protos import pipeline_pb2\n",
    "from google.protobuf import text_format\n",
    "import cv2 \n",
    "import numpy as np\n",
    "import tensorflow as tf\n",
    "from object_detection.utils import config_util\n",
    "from object_detection.protos import pipeline_pb2\n",
    "from google.protobuf import text_format\n",
    "\n",
    "WORKSPACE_PATH = 'Tensorflow/workspace'\n",
    "SCRIPTS_PATH = 'Tensorflow/scripts'\n",
    "APIMODEL_PATH = 'Tensorflow/models'\n",
    "ANNOTATION_PATH = WORKSPACE_PATH+'/annotations'\n",
    "IMAGE_PATH = WORKSPACE_PATH+'/images'\n",
    "MODEL_PATH = WORKSPACE_PATH+'/models'\n",
    "PRETRAINED_MODEL_PATH = WORKSPACE_PATH+'/pre-trained-models'\n",
    "CONFIG_PATH = MODEL_PATH+'/sign_model/pipeline.config'\n",
    "CHECKPOINT_PATH = MODEL_PATH+'/sign_model/'\n",
    "\n",
    "# Load pipeline \n",
    "configs = config_util.get_configs_from_pipeline_file(CONFIG_PATH)\n",
    "detection_model = model_builder.build(model_config=configs['model'], is_training=False)\n",
    "\n",
    "# Load checkpoint\n",
    "ckpt = tf.compat.v2.train.Checkpoint(model=detection_model)\n",
    "ckpt.restore(os.path.join(CHECKPOINT_PATH, 'ckpt-11')).expect_partial() #look at the model path\n",
    "\n",
    "# funtion that produce detection if we pass our image to\n",
    "@tf.function\n",
    "def detect_fn(image):\n",
    "    image, shapes = detection_model.preprocess(image) #resize image to 300x300\n",
    "    prediction_dict = detection_model.predict(image, shapes) #use detection model to predict\n",
    "    detections = detection_model.postprocess(prediction_dict, shapes) #preprocess again\n",
    "    return detections\n",
    "\n",
    "category_index = label_map_util.create_category_index_from_labelmap(ANNOTATION_PATH+'/label_map.pbtxt')\n",
    "\n",
    "\n",
    "#openCV\n",
    "cap = cv2.VideoCapture(0) #0 for default camera\n",
    "width = int(cap.get(cv2.CAP_PROP_FRAME_WIDTH))\n",
    "height = int(cap.get(cv2.CAP_PROP_FRAME_HEIGHT))\n",
    "\n",
    "while True: \n",
    "    ret, frame = cap.read()\n",
    "    image_np = np.array(frame)\n",
    "    \n",
    "    input_tensor = tf.convert_to_tensor(np.expand_dims(image_np, 0), dtype=tf.float32)\n",
    "    detections = detect_fn(input_tensor)\n",
    "    \n",
    "    num_detections = int(detections.pop('num_detections'))\n",
    "    detections = {key: value[0, :num_detections].numpy()\n",
    "                  for key, value in detections.items()}\n",
    "    \n",
    "    detections['num_detections'] = num_detections\n",
    "    detections['detection_classes'] = detections['detection_classes'].astype(np.int64)\n",
    "\n",
    "    label_id_offset = 1\n",
    "    image_np_with_detections = image_np.copy()\n",
    "\n",
    "    viz_utils.visualize_boxes_and_labels_on_image_array(\n",
    "                image_np_with_detections,\n",
    "                detections['detection_boxes'],\n",
    "                detections['detection_classes']+label_id_offset,\n",
    "                detections['detection_scores'],\n",
    "                category_index,\n",
    "                use_normalized_coordinates=True,\n",
    "                max_boxes_to_draw=5,\n",
    "                min_score_thresh=.5,\n",
    "                agnostic_mode=False)\n",
    "\n",
    "    cv2.imshow('object detection',  cv2.resize(image_np_with_detections, (800, 600)))\n",
    "    \n",
    "    if cv2.waitKey(1) & 0xFF == ord('q'):\n",
    "        cap.release()\n",
    "        break\n",
    "        \n",
    "print(cv2.__version__)\n",
    "detections = detect_fn(input_tensor)\n",
    "from matplotlib import pyplot as plt"
   ]
  },
  {
   "cell_type": "code",
   "execution_count": null,
   "metadata": {},
   "outputs": [],
   "source": []
  },
  {
   "cell_type": "code",
   "execution_count": null,
   "metadata": {},
   "outputs": [],
   "source": []
  },
  {
   "cell_type": "code",
   "execution_count": null,
   "metadata": {},
   "outputs": [],
   "source": []
  }
 ],
 "metadata": {
  "kernelspec": {
   "display_name": "Python 3 (ipykernel)",
   "language": "python",
   "name": "python3"
  },
  "language_info": {
   "codemirror_mode": {
    "name": "ipython",
    "version": 3
   },
   "file_extension": ".py",
   "mimetype": "text/x-python",
   "name": "python",
   "nbconvert_exporter": "python",
   "pygments_lexer": "ipython3",
   "version": "3.9.12"
  }
 },
 "nbformat": 4,
 "nbformat_minor": 4
}
